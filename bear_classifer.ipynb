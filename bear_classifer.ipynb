{
  "nbformat": 4,
  "nbformat_minor": 0,
  "metadata": {
    "colab": {
      "provenance": []
    },
    "kernelspec": {
      "name": "python3",
      "display_name": "Python 3"
    },
    "language_info": {
      "name": "python"
    },
    "widgets": {
      "application/vnd.jupyter.widget-state+json": {
        "783e7c05135f4bcda8e516c5a80f08e9": {
          "model_module": "@jupyter-widgets/controls",
          "model_name": "VBoxModel",
          "model_module_version": "1.5.0",
          "state": {
            "_dom_classes": [],
            "_model_module": "@jupyter-widgets/controls",
            "_model_module_version": "1.5.0",
            "_model_name": "VBoxModel",
            "_view_count": null,
            "_view_module": "@jupyter-widgets/controls",
            "_view_module_version": "1.5.0",
            "_view_name": "VBoxView",
            "box_style": "",
            "children": [
              "IPY_MODEL_a391957cd83b47e292f846c1377356e2",
              "IPY_MODEL_2ecfca5955244ea6b15fad659bde0d8f",
              "IPY_MODEL_934dc67596a24fb18a3ebf3dec02e15e",
              "IPY_MODEL_8e0d5d9d2c6d42e794a73cfdc3264fac"
            ],
            "layout": "IPY_MODEL_96bc6be082ae42d2b9186290bacb0069"
          }
        },
        "a391957cd83b47e292f846c1377356e2": {
          "model_module": "@jupyter-widgets/controls",
          "model_name": "LabelModel",
          "model_module_version": "1.5.0",
          "state": {
            "_dom_classes": [],
            "_model_module": "@jupyter-widgets/controls",
            "_model_module_version": "1.5.0",
            "_model_name": "LabelModel",
            "_view_count": null,
            "_view_module": "@jupyter-widgets/controls",
            "_view_module_version": "1.5.0",
            "_view_name": "LabelView",
            "description": "",
            "description_tooltip": null,
            "layout": "IPY_MODEL_0d1c4de1158f428f9c35f4d4b4484994",
            "placeholder": "​",
            "style": "IPY_MODEL_4b77afa95fd04e70bd2590612d5c8a49",
            "value": "Select your bear!"
          }
        },
        "2ecfca5955244ea6b15fad659bde0d8f": {
          "model_module": "@jupyter-widgets/controls",
          "model_name": "FileUploadModel",
          "model_module_version": "1.5.0",
          "state": {
            "_counter": 2,
            "_dom_classes": [],
            "_model_module": "@jupyter-widgets/controls",
            "_model_module_version": "1.5.0",
            "_model_name": "FileUploadModel",
            "_view_count": null,
            "_view_module": "@jupyter-widgets/controls",
            "_view_module_version": "1.5.0",
            "_view_name": "FileUploadView",
            "accept": "",
            "button_style": "",
            "data": [
              null
            ],
            "description": "Upload",
            "description_tooltip": null,
            "disabled": false,
            "error": "",
            "icon": "upload",
            "layout": "IPY_MODEL_07e628abfb1e4a00bf4abd7762b638d7",
            "metadata": [
              {
                "name": "American-black-bear-ursus-americanus-standing-stream-British-Columbia-Canada.webp",
                "type": "image/webp",
                "size": 178422,
                "lastModified": 1690224820611
              }
            ],
            "multiple": false,
            "style": "IPY_MODEL_c0320289474e42e983df573c35bd8dca"
          }
        },
        "934dc67596a24fb18a3ebf3dec02e15e": {
          "model_module": "@jupyter-widgets/output",
          "model_name": "OutputModel",
          "model_module_version": "1.0.0",
          "state": {
            "_dom_classes": [],
            "_model_module": "@jupyter-widgets/output",
            "_model_module_version": "1.0.0",
            "_model_name": "OutputModel",
            "_view_count": null,
            "_view_module": "@jupyter-widgets/output",
            "_view_module_version": "1.0.0",
            "_view_name": "OutputView",
            "layout": "IPY_MODEL_3259458ce6d14d26acad207a2ceb9270",
            "msg_id": "",
            "outputs": [
              {
                "output_type": "display_data",
                "data": {
                  "text/plain": "<PIL.Image.Image image mode=RGB size=128x87>",
                  "image/png": "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\n"
                },
                "metadata": {}
              }
            ]
          }
        },
        "8e0d5d9d2c6d42e794a73cfdc3264fac": {
          "model_module": "@jupyter-widgets/controls",
          "model_name": "LabelModel",
          "model_module_version": "1.5.0",
          "state": {
            "_dom_classes": [],
            "_model_module": "@jupyter-widgets/controls",
            "_model_module_version": "1.5.0",
            "_model_name": "LabelModel",
            "_view_count": null,
            "_view_module": "@jupyter-widgets/controls",
            "_view_module_version": "1.5.0",
            "_view_name": "LabelView",
            "description": "",
            "description_tooltip": null,
            "layout": "IPY_MODEL_ea3c311916714680b1fb05c68157b4ce",
            "placeholder": "​",
            "style": "IPY_MODEL_34d678d6c5b14552bb14b2888ba2dd59",
            "value": "Prediction: black; Probability: 0.9514"
          }
        },
        "96bc6be082ae42d2b9186290bacb0069": {
          "model_module": "@jupyter-widgets/base",
          "model_name": "LayoutModel",
          "model_module_version": "1.2.0",
          "state": {
            "_model_module": "@jupyter-widgets/base",
            "_model_module_version": "1.2.0",
            "_model_name": "LayoutModel",
            "_view_count": null,
            "_view_module": "@jupyter-widgets/base",
            "_view_module_version": "1.2.0",
            "_view_name": "LayoutView",
            "align_content": null,
            "align_items": null,
            "align_self": null,
            "border": null,
            "bottom": null,
            "display": null,
            "flex": null,
            "flex_flow": null,
            "grid_area": null,
            "grid_auto_columns": null,
            "grid_auto_flow": null,
            "grid_auto_rows": null,
            "grid_column": null,
            "grid_gap": null,
            "grid_row": null,
            "grid_template_areas": null,
            "grid_template_columns": null,
            "grid_template_rows": null,
            "height": null,
            "justify_content": null,
            "justify_items": null,
            "left": null,
            "margin": null,
            "max_height": null,
            "max_width": null,
            "min_height": null,
            "min_width": null,
            "object_fit": null,
            "object_position": null,
            "order": null,
            "overflow": null,
            "overflow_x": null,
            "overflow_y": null,
            "padding": null,
            "right": null,
            "top": null,
            "visibility": null,
            "width": null
          }
        },
        "0d1c4de1158f428f9c35f4d4b4484994": {
          "model_module": "@jupyter-widgets/base",
          "model_name": "LayoutModel",
          "model_module_version": "1.2.0",
          "state": {
            "_model_module": "@jupyter-widgets/base",
            "_model_module_version": "1.2.0",
            "_model_name": "LayoutModel",
            "_view_count": null,
            "_view_module": "@jupyter-widgets/base",
            "_view_module_version": "1.2.0",
            "_view_name": "LayoutView",
            "align_content": null,
            "align_items": null,
            "align_self": null,
            "border": null,
            "bottom": null,
            "display": null,
            "flex": null,
            "flex_flow": null,
            "grid_area": null,
            "grid_auto_columns": null,
            "grid_auto_flow": null,
            "grid_auto_rows": null,
            "grid_column": null,
            "grid_gap": null,
            "grid_row": null,
            "grid_template_areas": null,
            "grid_template_columns": null,
            "grid_template_rows": null,
            "height": null,
            "justify_content": null,
            "justify_items": null,
            "left": null,
            "margin": null,
            "max_height": null,
            "max_width": null,
            "min_height": null,
            "min_width": null,
            "object_fit": null,
            "object_position": null,
            "order": null,
            "overflow": null,
            "overflow_x": null,
            "overflow_y": null,
            "padding": null,
            "right": null,
            "top": null,
            "visibility": null,
            "width": null
          }
        },
        "4b77afa95fd04e70bd2590612d5c8a49": {
          "model_module": "@jupyter-widgets/controls",
          "model_name": "DescriptionStyleModel",
          "model_module_version": "1.5.0",
          "state": {
            "_model_module": "@jupyter-widgets/controls",
            "_model_module_version": "1.5.0",
            "_model_name": "DescriptionStyleModel",
            "_view_count": null,
            "_view_module": "@jupyter-widgets/base",
            "_view_module_version": "1.2.0",
            "_view_name": "StyleView",
            "description_width": ""
          }
        },
        "07e628abfb1e4a00bf4abd7762b638d7": {
          "model_module": "@jupyter-widgets/base",
          "model_name": "LayoutModel",
          "model_module_version": "1.2.0",
          "state": {
            "_model_module": "@jupyter-widgets/base",
            "_model_module_version": "1.2.0",
            "_model_name": "LayoutModel",
            "_view_count": null,
            "_view_module": "@jupyter-widgets/base",
            "_view_module_version": "1.2.0",
            "_view_name": "LayoutView",
            "align_content": null,
            "align_items": null,
            "align_self": null,
            "border": null,
            "bottom": null,
            "display": null,
            "flex": null,
            "flex_flow": null,
            "grid_area": null,
            "grid_auto_columns": null,
            "grid_auto_flow": null,
            "grid_auto_rows": null,
            "grid_column": null,
            "grid_gap": null,
            "grid_row": null,
            "grid_template_areas": null,
            "grid_template_columns": null,
            "grid_template_rows": null,
            "height": null,
            "justify_content": null,
            "justify_items": null,
            "left": null,
            "margin": null,
            "max_height": null,
            "max_width": null,
            "min_height": null,
            "min_width": null,
            "object_fit": null,
            "object_position": null,
            "order": null,
            "overflow": null,
            "overflow_x": null,
            "overflow_y": null,
            "padding": null,
            "right": null,
            "top": null,
            "visibility": null,
            "width": null
          }
        },
        "c0320289474e42e983df573c35bd8dca": {
          "model_module": "@jupyter-widgets/controls",
          "model_name": "ButtonStyleModel",
          "model_module_version": "1.5.0",
          "state": {
            "_model_module": "@jupyter-widgets/controls",
            "_model_module_version": "1.5.0",
            "_model_name": "ButtonStyleModel",
            "_view_count": null,
            "_view_module": "@jupyter-widgets/base",
            "_view_module_version": "1.2.0",
            "_view_name": "StyleView",
            "button_color": null,
            "font_weight": ""
          }
        },
        "ea3c311916714680b1fb05c68157b4ce": {
          "model_module": "@jupyter-widgets/base",
          "model_name": "LayoutModel",
          "model_module_version": "1.2.0",
          "state": {
            "_model_module": "@jupyter-widgets/base",
            "_model_module_version": "1.2.0",
            "_model_name": "LayoutModel",
            "_view_count": null,
            "_view_module": "@jupyter-widgets/base",
            "_view_module_version": "1.2.0",
            "_view_name": "LayoutView",
            "align_content": null,
            "align_items": null,
            "align_self": null,
            "border": null,
            "bottom": null,
            "display": null,
            "flex": null,
            "flex_flow": null,
            "grid_area": null,
            "grid_auto_columns": null,
            "grid_auto_flow": null,
            "grid_auto_rows": null,
            "grid_column": null,
            "grid_gap": null,
            "grid_row": null,
            "grid_template_areas": null,
            "grid_template_columns": null,
            "grid_template_rows": null,
            "height": null,
            "justify_content": null,
            "justify_items": null,
            "left": null,
            "margin": null,
            "max_height": null,
            "max_width": null,
            "min_height": null,
            "min_width": null,
            "object_fit": null,
            "object_position": null,
            "order": null,
            "overflow": null,
            "overflow_x": null,
            "overflow_y": null,
            "padding": null,
            "right": null,
            "top": null,
            "visibility": null,
            "width": null
          }
        },
        "34d678d6c5b14552bb14b2888ba2dd59": {
          "model_module": "@jupyter-widgets/controls",
          "model_name": "DescriptionStyleModel",
          "model_module_version": "1.5.0",
          "state": {
            "_model_module": "@jupyter-widgets/controls",
            "_model_module_version": "1.5.0",
            "_model_name": "DescriptionStyleModel",
            "_view_count": null,
            "_view_module": "@jupyter-widgets/base",
            "_view_module_version": "1.2.0",
            "_view_name": "StyleView",
            "description_width": ""
          }
        },
        "3259458ce6d14d26acad207a2ceb9270": {
          "model_module": "@jupyter-widgets/base",
          "model_name": "LayoutModel",
          "model_module_version": "1.2.0",
          "state": {
            "_model_module": "@jupyter-widgets/base",
            "_model_module_version": "1.2.0",
            "_model_name": "LayoutModel",
            "_view_count": null,
            "_view_module": "@jupyter-widgets/base",
            "_view_module_version": "1.2.0",
            "_view_name": "LayoutView",
            "align_content": null,
            "align_items": null,
            "align_self": null,
            "border": null,
            "bottom": null,
            "display": null,
            "flex": null,
            "flex_flow": null,
            "grid_area": null,
            "grid_auto_columns": null,
            "grid_auto_flow": null,
            "grid_auto_rows": null,
            "grid_column": null,
            "grid_gap": null,
            "grid_row": null,
            "grid_template_areas": null,
            "grid_template_columns": null,
            "grid_template_rows": null,
            "height": null,
            "justify_content": null,
            "justify_items": null,
            "left": null,
            "margin": null,
            "max_height": null,
            "max_width": null,
            "min_height": null,
            "min_width": null,
            "object_fit": null,
            "object_position": null,
            "order": null,
            "overflow": null,
            "overflow_x": null,
            "overflow_y": null,
            "padding": null,
            "right": null,
            "top": null,
            "visibility": null,
            "width": null
          }
        }
      }
    }
  },
  "cells": [
    {
      "cell_type": "code",
      "execution_count": 20,
      "metadata": {
        "id": "7UR-2i_8iu8d"
      },
      "outputs": [],
      "source": [
        "from fastai.vision.all import *\n",
        "from fastai.vision.widgets import *"
      ]
    },
    {
      "cell_type": "markdown",
      "source": [
        "Bear Classifier! Upload an image of a bear to see what kind of bear you're dealing with! The classifier can recognize black bears, grizzly bears, and teddy bears."
      ],
      "metadata": {
        "id": "pd1kqS-GsjQP"
      }
    },
    {
      "cell_type": "code",
      "source": [
        "path = Path()\n",
        "learn_inf = load_learner(path/'export.pkl', cpu=True)\n",
        "btn_upload = widgets.FileUpload()\n",
        "out_pl = widgets.Output()\n",
        "lbl_pred = widgets.Label()"
      ],
      "metadata": {
        "id": "up8nIPjIi0dp"
      },
      "execution_count": 21,
      "outputs": []
    },
    {
      "cell_type": "code",
      "source": [
        "def on_data_change(change):\n",
        "  lbl_pred.value = ''\n",
        "  img = PILImage.create(btn_upload.data[-1])\n",
        "  out_pl.clear_output()\n",
        "  with out_pl: display(img.to_thumb(128,128))\n",
        "  pred,pred_idx,probs = learn_inf.predict(img)\n",
        "  lbl_pred.value = f'Prediction: {pred}; Probability: {probs[pred_idx]:.04f}'"
      ],
      "metadata": {
        "id": "XFJgobkWjFpC"
      },
      "execution_count": 22,
      "outputs": []
    },
    {
      "cell_type": "code",
      "source": [
        "btn_upload.observe(on_data_change, names=['data'])"
      ],
      "metadata": {
        "id": "5shw-4zrr25G"
      },
      "execution_count": 23,
      "outputs": []
    },
    {
      "cell_type": "code",
      "source": [
        "display(VBox([widgets.Label('Select your bear!'), btn_upload, out_pl, lbl_pred]))"
      ],
      "metadata": {
        "colab": {
          "base_uri": "https://localhost:8080/",
          "height": 200,
          "referenced_widgets": [
            "783e7c05135f4bcda8e516c5a80f08e9",
            "a391957cd83b47e292f846c1377356e2",
            "2ecfca5955244ea6b15fad659bde0d8f",
            "934dc67596a24fb18a3ebf3dec02e15e",
            "8e0d5d9d2c6d42e794a73cfdc3264fac",
            "96bc6be082ae42d2b9186290bacb0069",
            "0d1c4de1158f428f9c35f4d4b4484994",
            "4b77afa95fd04e70bd2590612d5c8a49",
            "07e628abfb1e4a00bf4abd7762b638d7",
            "c0320289474e42e983df573c35bd8dca",
            "ea3c311916714680b1fb05c68157b4ce",
            "34d678d6c5b14552bb14b2888ba2dd59",
            "3259458ce6d14d26acad207a2ceb9270"
          ]
        },
        "id": "vZOta9ELr7o6",
        "outputId": "846e7c67-41da-4e7c-c99e-a82a1787b1d5"
      },
      "execution_count": 26,
      "outputs": [
        {
          "output_type": "display_data",
          "data": {
            "text/plain": [
              "VBox(children=(Label(value='Select your bear!'), FileUpload(value={'grizzly-bear-01-01.webp': {'metadata': {'n…"
            ],
            "application/vnd.jupyter.widget-view+json": {
              "version_major": 2,
              "version_minor": 0,
              "model_id": "783e7c05135f4bcda8e516c5a80f08e9"
            }
          },
          "metadata": {}
        },
        {
          "output_type": "display_data",
          "data": {
            "text/plain": [
              "<IPython.core.display.HTML object>"
            ],
            "text/html": [
              "\n",
              "<style>\n",
              "    /* Turns off some styling */\n",
              "    progress {\n",
              "        /* gets rid of default border in Firefox and Opera. */\n",
              "        border: none;\n",
              "        /* Needs to be in here for Safari polyfill so background images work as expected. */\n",
              "        background-size: auto;\n",
              "    }\n",
              "    progress:not([value]), progress:not([value])::-webkit-progress-bar {\n",
              "        background: repeating-linear-gradient(45deg, #7e7e7e, #7e7e7e 10px, #5c5c5c 10px, #5c5c5c 20px);\n",
              "    }\n",
              "    .progress-bar-interrupted, .progress-bar-interrupted::-webkit-progress-bar {\n",
              "        background: #F44336;\n",
              "    }\n",
              "</style>\n"
            ]
          },
          "metadata": {}
        },
        {
          "output_type": "display_data",
          "data": {
            "text/plain": [
              "<IPython.core.display.HTML object>"
            ],
            "text/html": []
          },
          "metadata": {}
        }
      ]
    },
    {
      "cell_type": "markdown",
      "source": [],
      "metadata": {
        "id": "5pc-IPegtAz5"
      }
    }
  ]
}